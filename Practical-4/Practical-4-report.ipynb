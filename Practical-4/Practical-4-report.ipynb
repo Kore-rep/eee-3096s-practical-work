{
 "cells": [
  {
   "cell_type": "markdown",
   "id": "54e07e91",
   "metadata": {},
   "source": [
    "![Diagram](new_circuit.png)"
   ]
  },
  {
   "cell_type": "code",
   "execution_count": null,
   "id": "1b57e6a6",
   "metadata": {},
   "outputs": [],
   "source": [
    "import busio\n",
    "import digitalio\n",
    "import board\n",
    "import threading\n",
    "import RPi.GPIO as GPIO\n",
    "from time import time, sleep\n",
    "import adafruit_mcp3xxx.mcp3008 as MCP\n",
    "from adafruit_mcp3xxx.analog_in import AnalogIn\n",
    "\n",
    "def print_sensor_vals(start_time, temp, ldr):\n",
    "    print(f\"{round(time()-start_time)}s\\t{temp.value}\\t \\t{round(((temp.voltage-0.5)/0.01), 2)}\\t{round(ldr.voltage, 2)}\")\n",
    "\n",
    "\n",
    "def cycle_sample_time(channel):\n",
    "    global current_sampling_time_index, sampling_times\n",
    "    print(f\"Changing from {sampling_times[current_sampling_time_index]}s to {sampling_times[(current_sampling_time_index+1)%3]}s after the next sample\")\n",
    "    current_sampling_time_index = (current_sampling_time_index +1) %3\n",
    "\n",
    "sampling_times = [10, 5, 1]\n",
    "current_sampling_time_index = 0\n",
    "\n",
    "#create the spi bus\n",
    "spi = busio.SPI(clock=board.SCK, MISO=board.MISO, MOSI=board.MOSI)\n",
    "\n",
    "# create the cs (chip select)\n",
    "cs = digitalio.DigitalInOut(board.D5)\n",
    "\n",
    "\n",
    "# create the mcp object\n",
    "mcp = MCP.MCP3008(spi, cs)\n",
    "\n",
    "# Add button callback to change sampling rate\n",
    "GPIO.setup(17, GPIO.IN, pull_up_down=GPIO.PUD_UP)\n",
    "GPIO.add_event_detect(17, GPIO.FALLING, callback=cycle_sample_time, bouncetime=200)\n",
    "    \n",
    "start_time = time()\n",
    "ldr = AnalogIn(mcp, MCP.P2)\n",
    "temp = AnalogIn(mcp, MCP.P1)\n",
    "print(\"Runtime\\tTemp Reading\\tTemp\\tLight Reading\")\n",
    "while True:\n",
    "    x = threading.Thread(target=print_sensor_vals, args=(start_time, temp, ldr))\n",
    "    x.start()\n",
    "    x.join()\n",
    "    wait_time = sampling_times[current_sampling_time_index]\n",
    "    sleep(wait_time)"
   ]
  }
 ],
 "metadata": {
  "kernelspec": {
   "display_name": "Python 3 (ipykernel)",
   "language": "python",
   "name": "python3"
  },
  "language_info": {
   "codemirror_mode": {
    "name": "ipython",
    "version": 3
   },
   "file_extension": ".py",
   "mimetype": "text/x-python",
   "name": "python",
   "nbconvert_exporter": "python",
   "pygments_lexer": "ipython3",
   "version": "3.8.10"
  }
 },
 "nbformat": 4,
 "nbformat_minor": 5
}
