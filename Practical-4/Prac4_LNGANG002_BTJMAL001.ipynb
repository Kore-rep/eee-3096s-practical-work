{
 "cells": [
  {
   "cell_type": "markdown",
   "id": "b72b2c90",
   "metadata": {},
   "source": [
    "# EEE3096S Practical 4 \n",
    "## Date: 8 October 2021\n",
    "## Authors:\n",
    "### Angus Longmore (LNGANG002) and Malcom Baatjies (BTJMAL001)"
   ]
  },
  {
   "cell_type": "markdown",
   "id": "54e07e91",
   "metadata": {},
   "source": [
    "![Diagram](new_circuit.png)"
   ]
  },
  {
   "cell_type": "markdown",
   "id": "66668266",
   "metadata": {},
   "source": [
    "## Validation and Testing\n",
    "\n",
    "The first tests for the ldr involved measuring the readings at ambient, then covering the light, observing the readings decrease, shining a torch on the light and observing the readings increase. \n",
    "To test for the Thermistor, the ADC readings were converted to Celcius, then compared to the value of a mercury thermometer. The readings were seperated by a degree and half.\n",
    "\n",
    "The Pi was then restarted and the tests redone to validate the results. We obtained very similar readings for ambient temperature and light, the increase/decreases were also consistent with our initial testing.\n",
    "\n",
    "The image below is a sample of some of the testing. The sections outlined in red are ambient readings.The section in blue is the light sensor being covered. The section in green is the thermistor being held by fingers (increasing the temperature), notice the ramp up as the thermistor warms. You'll also notice during this section the ldr readings drop, this is due to the ldr being close to the thermistor, and the hand of the operator blocking the light to the ldr.\n",
    "The pink section is when the thermistor has been released and is returning to ambient slowly.\n",
    "\n",
    "We will demo our program in person next week, as indicated we can do on the discord server, so no video is linked."
   ]
  },
  {
   "cell_type": "markdown",
   "id": "bacca8ac",
   "metadata": {},
   "source": [
    "![Testing](Practical-4-example-marked.png)"
   ]
  },
  {
   "cell_type": "code",
   "execution_count": null,
   "id": "1b57e6a6",
   "metadata": {},
   "outputs": [],
   "source": [
    "import busio\n",
    "import digitalio\n",
    "import board\n",
    "import threading\n",
    "import RPi.GPIO as GPIO\n",
    "from time import time, sleep\n",
    "import adafruit_mcp3xxx.mcp3008 as MCP\n",
    "from adafruit_mcp3xxx.analog_in import AnalogIn\n",
    "\n",
    "def print_sensor_vals(start_time, temp, ldr):\n",
    "    print(f\"{round(time()-start_time)}s\\t{temp.value}\\t \\t{round(((temp.voltage-0.5)/0.01), 2)}\\t{round(ldr.voltage, 2)}\")\n",
    "\n",
    "\n",
    "def cycle_sample_time(channel):\n",
    "    global current_sampling_time_index, sampling_times\n",
    "    print(f\"Changing from {sampling_times[current_sampling_time_index]}s to {sampling_times[(current_sampling_time_index+1)%3]}s after the next sample\")\n",
    "    current_sampling_time_index = (current_sampling_time_index +1) %3\n",
    "\n",
    "sampling_times = [10, 5, 1]\n",
    "current_sampling_time_index = 0\n",
    "\n",
    "#create the spi bus\n",
    "spi = busio.SPI(clock=board.SCK, MISO=board.MISO, MOSI=board.MOSI)\n",
    "\n",
    "# create the cs (chip select)\n",
    "cs = digitalio.DigitalInOut(board.D5)\n",
    "\n",
    "\n",
    "# create the mcp object\n",
    "mcp = MCP.MCP3008(spi, cs)\n",
    "\n",
    "# Add button callback to change sampling rate\n",
    "GPIO.setup(17, GPIO.IN, pull_up_down=GPIO.PUD_UP)\n",
    "GPIO.add_event_detect(17, GPIO.FALLING, callback=cycle_sample_time, bouncetime=200)\n",
    "    \n",
    "start_time = time()\n",
    "ldr = AnalogIn(mcp, MCP.P2)\n",
    "temp = AnalogIn(mcp, MCP.P1)\n",
    "print(\"Runtime\\tTemp Reading\\tTemp\\tLight Reading\")\n",
    "while True:\n",
    "    x = threading.Thread(target=print_sensor_vals, args=(start_time, temp, ldr))\n",
    "    x.start()\n",
    "    x.join()\n",
    "    wait_time = sampling_times[current_sampling_time_index]\n",
    "    sleep(wait_time)"
   ]
  }
 ],
 "metadata": {
  "kernelspec": {
   "display_name": "Python 3 (ipykernel)",
   "language": "python",
   "name": "python3"
  },
  "language_info": {
   "codemirror_mode": {
    "name": "ipython",
    "version": 3
   },
   "file_extension": ".py",
   "mimetype": "text/x-python",
   "name": "python",
   "nbconvert_exporter": "python",
   "pygments_lexer": "ipython3",
   "version": "3.8.10"
  }
 },
 "nbformat": 4,
 "nbformat_minor": 5
}
