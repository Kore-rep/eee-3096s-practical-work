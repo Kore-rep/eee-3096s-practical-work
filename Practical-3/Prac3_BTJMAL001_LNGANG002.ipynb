{
 "cells": [
  {
   "cell_type": "markdown",
   "id": "f4f92a86",
   "metadata": {},
   "source": [
    "# EEE3096S Practical 3\n",
    "## BTJMAL001 LNGANG002\n",
    "### Report"
   ]
  },
  {
   "cell_type": "markdown",
   "id": "efe8bb85",
   "metadata": {},
   "source": [
    "![Diagram](Use-case-diagram.png)"
   ]
  },
  {
   "cell_type": "markdown",
   "id": "1cfed7eb",
   "metadata": {},
   "source": [
    "The intiazliations and imports are as follows:"
   ]
  },
  {
   "cell_type": "code",
   "execution_count": null,
   "id": "795f6802",
   "metadata": {},
   "outputs": [],
   "source": [
    "# Import libraries\n",
    "import RPi.GPIO as GPIO\n",
    "import random\n",
    "import ES2EEPROMUtils\n",
    "import os\n",
    "import time\n",
    "from math import ceil\n",
    "\n",
    "# some global variables that need to change as we run the program\n",
    "end_of_game = None  # set if the user wins or ends the game\n",
    "pwm_led = None\n",
    "pwm_buzzer = None\n",
    "USER_GUESS = 0\n",
    "CORRECT_VALUE = None\n",
    "GUESS_ATTEMPTS = 0\n",
    "last_interrupt_time = 0\n",
    "\n",
    "# DEFINE THE PINS USED HERE\n",
    "LED_value = [11, 13, 15]\n",
    "LED_accuracy = 32\n",
    "btn_submit = 16\n",
    "btn_increase = 18\n",
    "buzzer = 33\n",
    "eeprom = ES2EEPROMUtils.ES2EEPROM()"
   ]
  },
  {
   "cell_type": "markdown",
   "id": "7342c962",
   "metadata": {},
   "source": [
    "The *welcome* method is as follows:"
   ]
  },
  {
   "cell_type": "code",
   "execution_count": null,
   "id": "19734aa4",
   "metadata": {},
   "outputs": [],
   "source": [
    "def welcome():\n",
    "    os.system('clear')\n",
    "    print(\"  _   _                 _                  _____ _            __  __ _\")\n",
    "    print(\"| \\ | |               | |                / ____| |          / _|/ _| |\")\n",
    "    print(\"|  \\| |_   _ _ __ ___ | |__   ___ _ __  | (___ | |__  _   _| |_| |_| | ___ \")\n",
    "    print(\"| . ` | | | | '_ ` _ \\| '_ \\ / _ \\ '__|  \\___ \\| '_ \\| | | |  _|  _| |/ _ \\\\\")\n",
    "    print(\"| |\\  | |_| | | | | | | |_) |  __/ |     ____) | | | | |_| | | | | | |  __/\")\n",
    "    print(\"|_| \\_|\\__,_|_| |_| |_|_.__/ \\___|_|    |_____/|_| |_|\\__,_|_| |_| |_|\\___|\")\n",
    "    print(\"\")\n",
    "    print(\"Guess the number and immortalise your name in the High Score Hall of Fame!\")"
   ]
  },
  {
   "cell_type": "markdown",
   "id": "cab8c783",
   "metadata": {},
   "source": [
    "The *menu* method is as follows:"
   ]
  },
  {
   "cell_type": "code",
   "execution_count": null,
   "id": "b76a2509",
   "metadata": {},
   "outputs": [],
   "source": [
    "# Print the game menu\n",
    "def menu():\n",
    "    global end_of_game, CORRECT_VALUE\n",
    "    end_of_game = None\n",
    "    option = input(\"Select an option:   H - View High Scores     P - Play Game       Q - Quit\\n\")\n",
    "    option = option.upper()\n",
    "    if option == \"H\":\n",
    "        os.system('clear')\n",
    "        print(\"HIGH SCORES!!\")\n",
    "        s_count, ss = fetch_scores()\n",
    "        display_scores(s_count, ss)\n",
    "    elif option == \"P\":\n",
    "        os.system('clear')\n",
    "        print(\"Starting a new round!\")\n",
    "        print(\"Use the buttons on the Pi to make and submit your guess!\")\n",
    "        print(\"Press and hold the guess button to cancel your game\")\n",
    "        CORRECT_VALUE = generate_number()\n",
    "        #print(f\"Correct Value = {CORRECT_VALUE}\")\n",
    "        while not end_of_game:\n",
    "            pass\n",
    "    elif option == \"Q\":\n",
    "        print(\"Come back soon!\")\n",
    "        exit()\n",
    "    else:\n",
    "        print(\"Invalid option. Please select a valid one!\")"
   ]
  },
  {
   "cell_type": "markdown",
   "id": "a419a7de",
   "metadata": {},
   "source": [
    "The *display_scores* method is as follows:"
   ]
  },
  {
   "cell_type": "code",
   "execution_count": null,
   "id": "04a46c8e",
   "metadata": {},
   "outputs": [],
   "source": [
    "def display_scores(count, raw_data):\n",
    "    # print the scores to the screen in the expected format\n",
    "    print(\"There are {} scores. Here are the top 3!\".format(count))\n",
    "    # print out the scores in the required format\n",
    "    for i in range(3):\n",
    "        print(i+1, \". \", raw_data[i][0], \": \", raw_data[i][1], sep=\"\")"
   ]
  },
  {
   "cell_type": "markdown",
   "id": "2ace1ef4",
   "metadata": {},
   "source": [
    "The *setup* method is as follows:"
   ]
  },
  {
   "cell_type": "code",
   "execution_count": null,
   "id": "c318be51",
   "metadata": {},
   "outputs": [],
   "source": [
    "# Setup Pins\n",
    "def setup():\n",
    "    # Setup board mode\n",
    "    GPIO.setmode(GPIO.BOARD)\n",
    "\n",
    "    # Setup regular GPIO\n",
    "    # LEDS\n",
    "    for i in range(3):\n",
    "        GPIO.setup(LED_value[i],GPIO.OUT)\n",
    "        GPIO.output(LED_value[i], GPIO.LOW)\n",
    "    GPIO.setup(LED_accuracy, GPIO.OUT)\n",
    "    # Btns\n",
    "    GPIO.setup(btn_submit, GPIO.IN, pull_up_down=GPIO.PUD_UP)\n",
    "    GPIO.setup(btn_increase, GPIO.IN, pull_up_down=GPIO.PUD_UP)\n",
    "    # Buzzer\n",
    "    GPIO.setup(buzzer, GPIO.OUT)\n",
    "\n",
    "    global pwm_led, pwm_buzzer\n",
    "    # Setup PWM channels\n",
    "    pwm_led = GPIO.PWM(LED_accuracy, 1000)\n",
    "    pwm_led.start(0)\n",
    "    pwm_buzzer= GPIO.PWM(buzzer, 1)\n",
    "    pwm_buzzer.start(0)\n",
    "\n",
    "    # Setup debouncing and callbacks\n",
    "    GPIO.add_event_detect(btn_increase, GPIO.FALLING, callback=btn_increase_pressed, bouncetime=200)\n",
    "    GPIO.add_event_detect(btn_submit, GPIO.FALLING, callback=btn_guess_pressed,bouncetime=200)"
   ]
  },
  {
   "cell_type": "markdown",
   "id": "590ef0d5",
   "metadata": {},
   "source": [
    "The *fetch_scores* method is as follows:"
   ]
  },
  {
   "cell_type": "code",
   "execution_count": null,
   "id": "bfdc81af",
   "metadata": {},
   "outputs": [],
   "source": [
    "# Load high scores\n",
    "def fetch_scores():\n",
    "    global eeprom\n",
    "    score_count = eeprom.read_byte(0)\n",
    "    scores = []\n",
    "\n",
    "    # Get the scores\n",
    "    for i in range(score_count):\n",
    "        scores.append(eeprom.read_block(i+1, 4))\n",
    "\n",
    "    # convert the codes back to ascii\n",
    "    for i in range(len(scores)):\n",
    "        name = chr(scores[i][0]) + chr(scores[i][1]) + chr(scores[i][2])\n",
    "        scores[i] = [name, scores[i][3]]\n",
    "\n",
    "    scores.sort(key=lambda x: x[1])\n",
    "    # return back the results\n",
    "    return score_count, scores"
   ]
  },
  {
   "cell_type": "markdown",
   "id": "03dc1f11",
   "metadata": {},
   "source": [
    "The *trim_name* method is as follows:"
   ]
  },
  {
   "cell_type": "code",
   "execution_count": null,
   "id": "e6192b41",
   "metadata": {},
   "outputs": [],
   "source": [
    "def trim_name(name):\n",
    "    # Trim name to 3 characters\n",
    "    user_name = name[0] + name[(len(name)//2)] + name[-1]\n",
    "    return user_name"
   ]
  },
  {
   "cell_type": "markdown",
   "id": "e7f48635",
   "metadata": {},
   "source": [
    "The *save_scores* method is as follows:"
   ]
  },
  {
   "cell_type": "code",
   "execution_count": null,
   "id": "470b1b4b",
   "metadata": {},
   "outputs": [],
   "source": [
    "# Save high scores\n",
    "def save_scores():\n",
    "    score_count, scores = fetch_scores()\n",
    "    user_name = input(\"Please enter your name: \")\n",
    "    if len(user_name) > 3:\n",
    "        user_name = trim_name(user_name)\n",
    "    # include new score\n",
    "    scores.append([user_name, GUESS_ATTEMPTS])\n",
    "    # sort\n",
    "    scores.sort(key=lambda x: x[1])\n",
    "    # update total amount of scores\n",
    "    score_count += 1\n",
    "    eeprom.write_block(0, [score_count])\n",
    "\n",
    "    # write new scores\n",
    "    data_to_write = []\n",
    "    for letter in user_name:\n",
    "        data_to_write.append(ord(letter))\n",
    "    data_to_write.append(GUESS_ATTEMPTS)\n",
    "\n",
    "    eeprom.write_block(score_count, data_to_write)\n",
    "    print(\"Writing Scores\")"
   ]
  },
  {
   "cell_type": "markdown",
   "id": "e427e063",
   "metadata": {},
   "source": [
    "The *generate_number* method is as follows:"
   ]
  },
  {
   "cell_type": "code",
   "execution_count": null,
   "id": "bf476e69",
   "metadata": {},
   "outputs": [],
   "source": [
    "# Generate guess number\n",
    "def generate_number():\n",
    "    return random.randint(0, pow(2, 3)-1)"
   ]
  },
  {
   "cell_type": "markdown",
   "id": "54756954",
   "metadata": {},
   "source": [
    "The *btn_increase_pressed* method is as follows:"
   ]
  },
  {
   "cell_type": "code",
   "execution_count": null,
   "id": "184007f3",
   "metadata": {},
   "outputs": [],
   "source": [
    "# Increase button pressed\n",
    "def btn_increase_pressed(channel):\n",
    "    global USER_GUESS, last_interrupt_time\n",
    "\n",
    "    # debounce\n",
    "    start_time = time.time()\n",
    "    if (start_time - last_interrupt_time > 0.2):\n",
    "\n",
    "        USER_GUESS += 1\n",
    "        USER_GUESS = USER_GUESS % 8\n",
    "        value_dict = {\n",
    "            0: [GPIO.LOW, GPIO.LOW, GPIO.LOW],\n",
    "            1: [GPIO.LOW, GPIO.LOW, GPIO.HIGH],\n",
    "            2: [GPIO.LOW, GPIO.HIGH, GPIO.LOW],\n",
    "            3: [GPIO.LOW, GPIO.HIGH, GPIO.HIGH],\n",
    "            4: [GPIO.HIGH, GPIO.LOW, GPIO.LOW],\n",
    "            5: [GPIO.HIGH, GPIO.LOW, GPIO.HIGH],\n",
    "            6: [GPIO.HIGH, GPIO.HIGH, GPIO.LOW],\n",
    "            7: [GPIO.HIGH, GPIO.HIGH, GPIO.HIGH],\n",
    "            }\n",
    "        # Increase the value shown on the LEDs\n",
    "        for i in range(3):\n",
    "            GPIO.output(LED_value[i], value_dict[USER_GUESS][i])\n",
    "    last_interrupt_time = start_time"
   ]
  },
  {
   "cell_type": "markdown",
   "id": "ce5615c5",
   "metadata": {},
   "source": [
    "The *reset_GPIO* method is as follows:"
   ]
  },
  {
   "cell_type": "code",
   "execution_count": null,
   "id": "52e01760",
   "metadata": {},
   "outputs": [],
   "source": [
    "def resetGPIO():\n",
    "    global USER_GUESS, pwm_led, pwm_buzzer, last_interrupt_time\n",
    "    last_interrupt_time = 0\n",
    "    # Set the User guess to 7\n",
    "    USER_GUESS = 7\n",
    "    # then increase it and set the LEDS to correct value\n",
    "    btn_increase_pressed(0)\n",
    "    # Turn accuracy LED and buzzer off\n",
    "    pwm_led.ChangeDutyCycle(0)\n",
    "    pwm_buzzer.ChangeDutyCycle(0)"
   ]
  },
  {
   "cell_type": "markdown",
   "id": "03ded131",
   "metadata": {},
   "source": [
    "The *btn_guess_pressed* method is as follows:"
   ]
  },
  {
   "cell_type": "code",
   "execution_count": null,
   "id": "ddadfb89",
   "metadata": {},
   "outputs": [],
   "source": [
    "# Guess button\n",
    "def btn_guess_pressed(channel):\n",
    "    global end_of_game, last_interrupt_time, GUESS_ATTEMPTS\n",
    "    GUESS_ATTEMPTS += 1\n",
    "    long_press = False\n",
    "    start_time = time.time()\n",
    "    # Measure the button press time\n",
    "    while GPIO.input(btn_submit) == GPIO.LOW:\n",
    "        time.sleep(0.1)\n",
    "        btn_press_length = time.time() - start_time\n",
    "        if btn_press_length > 1:\n",
    "            long_press = True\n",
    "            break\n",
    "\n",
    "    # If longer than a second, wait for button release\n",
    "    if long_press:\n",
    "        print(\"Waiting for button release\")\n",
    "        while GPIO.input(btn_submit) == GPIO.LOW:\n",
    "            pass \n",
    "        # Reset GPIO and restart the game  \n",
    "        resetGPIO()\n",
    "        welcome()        \n",
    "        end_of_game = True\n",
    "    else:\n",
    "        # If its a short press\n",
    "        # debounce\n",
    "        # Check if game is won, otherwise update LED and buzzer\n",
    "        if (start_time - last_interrupt_time > 0.2):\n",
    "            if USER_GUESS == CORRECT_VALUE:\n",
    "                game_win()\n",
    "                pass\n",
    "            accuracy_leds()\n",
    "            trigger_buzzer()\n",
    "        last_interrupt_time = start_time"
   ]
  },
  {
   "cell_type": "markdown",
   "id": "c40dda3f",
   "metadata": {},
   "source": [
    "The *game_win* method is as follows:"
   ]
  },
  {
   "cell_type": "code",
   "execution_count": null,
   "id": "439b522e",
   "metadata": {},
   "outputs": [],
   "source": [
    "def game_win():\n",
    "    # Procedure for game win\n",
    "    global GUESS_ATTEMPTS, end_of_game\n",
    "    # Turn off GPIO\n",
    "    pwm_led.stop()\n",
    "    pwm_buzzer.stop()\n",
    "    for i in range(3):\n",
    "        GPIO.output(LED_value[i], GPIO.LOW)\n",
    "\n",
    "    USER_GUESS = 0\n",
    "    print(f\"Congratulations! You guessed correctly!! It took you {GUESS_ATTEMPTS}\", \"guesses!\" if GUESS_ATTEMPTS > 1 else \"guess!\")\n",
    "    # Store score\n",
    "    save_scores()\n",
    "    end_of_game = True"
   ]
  },
  {
   "cell_type": "markdown",
   "id": "2ebec58b",
   "metadata": {},
   "source": [
    "The *accuracy_leds* method is as follows:"
   ]
  },
  {
   "cell_type": "code",
   "execution_count": null,
   "id": "0a51d2d8",
   "metadata": {},
   "outputs": [],
   "source": [
    "# LED Brightness\n",
    "def accuracy_leds():\n",
    "    # Set the brightness of the LED based on how close the guess is to the answer\n",
    "    led_val = 100.0-(abs(USER_GUESS-CORRECT_VALUE)/7*100.0)\n",
    "    pwm_led.ChangeDutyCycle(round(led_val))"
   ]
  },
  {
   "cell_type": "markdown",
   "id": "3f49d6b8",
   "metadata": {},
   "source": [
    "The *trigger_buzzer* method is as follows:"
   ]
  },
  {
   "cell_type": "code",
   "execution_count": null,
   "id": "97fe7d7e",
   "metadata": {},
   "outputs": [],
   "source": [
    "# Sound Buzzer\n",
    "def trigger_buzzer():\n",
    "    # The buzzer duty cycle should be left at 50%\n",
    "    pwm_buzzer.ChangeDutyCycle(50.0)\n",
    "    # If the user is off by an absolute value of 3, the buzzer should sound once every second\n",
    "    if (abs(USER_GUESS-CORRECT_VALUE) == 3):\n",
    "        pwm_buzzer.ChangeFrequency(1)\n",
    "    # If the user is off by an absolute value of 2, the buzzer should sound twice every second\n",
    "    elif (abs(USER_GUESS-CORRECT_VALUE) == 2):\n",
    "        pwm_buzzer.ChangeFrequency(2)\n",
    "    # If the user is off by an absolute value of 1, the buzzer should sound 4 times a second\n",
    "    elif (abs(USER_GUESS-CORRECT_VALUE) == 1):\n",
    "        pwm_buzzer.ChangeFrequency(4)\n",
    "    else:\n",
    "        pwm_buzzer.ChangeDutyCycle(0)"
   ]
  },
  {
   "cell_type": "markdown",
   "id": "549d5096",
   "metadata": {},
   "source": [
    "Finally the main program when executed does the following:"
   ]
  },
  {
   "cell_type": "code",
   "execution_count": null,
   "id": "b43a4bc8",
   "metadata": {},
   "outputs": [],
   "source": [
    "if __name__ == \"__main__\":\n",
    "    try:\n",
    "        # Call setup function\n",
    "        setup()\n",
    "        welcome()\n",
    "        while True:\n",
    "            menu()\n",
    "            pass\n",
    "    except Exception as e:\n",
    "        print(e)\n",
    "    finally:\n",
    "        GPIO.cleanup()"
   ]
  }
 ],
 "metadata": {
  "kernelspec": {
   "display_name": "Python 3 (ipykernel)",
   "language": "python",
   "name": "python3"
  },
  "language_info": {
   "codemirror_mode": {
    "name": "ipython",
    "version": 3
   },
   "file_extension": ".py",
   "mimetype": "text/x-python",
   "name": "python",
   "nbconvert_exporter": "python",
   "pygments_lexer": "ipython3",
   "version": "3.8.10"
  }
 },
 "nbformat": 4,
 "nbformat_minor": 5
}
